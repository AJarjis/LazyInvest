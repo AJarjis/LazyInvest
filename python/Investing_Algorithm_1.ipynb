{
 "cells": [
  {
   "cell_type": "markdown",
   "metadata": {
    "collapsed": false
   },
   "source": [
    "## Calculate the Covariance Matrix"
   ]
  },
  {
   "cell_type": "code",
   "execution_count": 41,
   "metadata": {
    "collapsed": false
   },
   "outputs": [],
   "source": [
    "import numpy as np\n",
    "\n",
    "def covariancematrix( input ):\n",
    "\n",
    "    data = np.genfromtxt('data.csv', delimiter=',')\n",
    "\n",
    "    dimension_row=data.shape[0]\n",
    "    dimension_col=data.shape[1]\n",
    "\n",
    "\n",
    "    A_return=np.zeros((dimension_row-1,1))\n",
    "    A_return=np.asmatrix(A_return)\n",
    "\n",
    "    B_return=np.zeros((dimension_row-1,1))\n",
    "    B_return=np.asmatrix(B_return)\n",
    "\n",
    "    cov_matrix=np.zeros((len(input),len(input)))\n",
    "\n",
    "    data=np.asmatrix(data)\n",
    "\n",
    "    for a in input:\n",
    "\n",
    "        for b in input:\n",
    "            A_return=np.zeros((dimension_row-1,1))\n",
    "            A_return=np.asmatrix(A_return)\n",
    "\n",
    "            #Calculate the Percentage Returns in each period\n",
    "\n",
    "            for i in range(dimension_row-1):\n",
    "                #print(i)\n",
    "                A_return[i]=(data[i,a]/data[i+1,a])-1\n",
    "                #print(A_return[i])\n",
    "\n",
    "\n",
    "            #print('for',a,',',b,'the answer is',i)\n",
    "            #print(A_return)\n",
    "\n",
    "            B_return=np.zeros((dimension_row-1,1))\n",
    "            B_return=np.asmatrix(B_return)\n",
    "\n",
    "            for j in range(dimension_row-1):\n",
    "                B_return[j]=(data[j,b]/data[j+1,b])-1\n",
    "\n",
    "            #print(B_return)\n",
    "\n",
    "            #Calculate mean for A and B\n",
    "            A_mean=A_return.mean()\n",
    "            B_mean=B_return.mean()\n",
    "            #print(A_mean)\n",
    "            #print(B_mean)\n",
    "\n",
    "            #Calculate covariance\n",
    "            cov_A_B=sum(np.multiply(A_return-A_mean,B_return-B_mean))/A_return.shape[0]\n",
    "            #print('for',a,',',b,'the answer is')\n",
    "            #print((A_return-A_mean)[1])\n",
    "\n",
    "            #print('for',a,',',b,'the answer is')\n",
    "            #print(cov_A_B)\n",
    "\n",
    "            #Write variance or covariance into variance covariance matrix\n",
    "            cov_matrix[a,b]=cov_A_B;\n",
    "\n",
    "            #Clear variables\n",
    "            A_return=None\n",
    "            B_return=None\n",
    "            A_mean=None\n",
    "            B_mean=None\n",
    "            cov_A_B=None\n",
    "            i=None\n",
    "            j=None\n",
    "            \n",
    "    return[cov_matrix]"
   ]
  },
  {
   "cell_type": "markdown",
   "metadata": {
    "collapsed": true
   },
   "source": [
    "## Run the covariance matrix function"
   ]
  },
  {
   "cell_type": "code",
   "execution_count": 43,
   "metadata": {
    "collapsed": false
   },
   "outputs": [
    {
     "data": {
      "text/plain": [
       "[array([[  1.55562788e-04,   4.58929937e-05,   3.46365122e-05],\n",
       "        [  4.58929937e-05,   1.36041202e-04,   5.46454430e-05],\n",
       "        [  3.46365122e-05,   5.46454430e-05,   1.08521209e-04]])]"
      ]
     },
     "execution_count": 43,
     "metadata": {},
     "output_type": "execute_result"
    }
   ],
   "source": [
    "#Run covariancematrix function\n",
    "\n",
    "input_for_it=[0,1,2]\n",
    "\n",
    "covariancematrix(input_for_it)"
   ]
  },
  {
   "cell_type": "markdown",
   "metadata": {
    "collapsed": true
   },
   "source": [
    "## Calculate the Portfolio Variance using the Covariance Matrix"
   ]
  },
  {
   "cell_type": "code",
   "execution_count": 88,
   "metadata": {
    "collapsed": false
   },
   "outputs": [],
   "source": [
    "def calcportfolio( weights, covariance_matrix ):\n",
    "    weights=np.zeros((cov_matrix.shape[0],1))\n",
    "    weights=np.asmatrix(weights)\n",
    "    weights_dot=np.dot(weights.T,covariance_matrix)\n",
    "    portfolio_variance=np.dot(weights_dot,weights)\n",
    "    return[portfolio_variance]"
   ]
  },
  {
   "cell_type": "markdown",
   "metadata": {
    "collapsed": false
   },
   "source": [
    "## Run the Portfolio Variance Function"
   ]
  },
  {
   "cell_type": "code",
   "execution_count": 87,
   "metadata": {
    "collapsed": false
   },
   "outputs": [
    {
     "data": {
      "text/plain": [
       "[matrix([[ 0.]])]"
      ]
     },
     "execution_count": 87,
     "metadata": {},
     "output_type": "execute_result"
    }
   ],
   "source": [
    "#Run calcportfolio function\n",
    "\n",
    "weights=np.zeros((cov_matrix.shape[0],1))\n",
    "\n",
    "calcportfolio(weights, cov_matrix)"
   ]
  },
  {
   "cell_type": "markdown",
   "metadata": {},
   "source": [
    "## To be done"
   ]
  },
  {
   "cell_type": "markdown",
   "metadata": {
    "collapsed": true
   },
   "source": [
    "First we need to define a level of variance corresponding to the user input risk level.\n",
    "Now we need to define a function to calculate the return of a combination of stocks for all possible splits (i.e. 20%stock 1, 25% stock 2, 55% stock 3) and given the previously chosen variance.\n",
    "Then we choose the split that has the maximum return for the fixed variance."
   ]
  }
 ],
 "metadata": {
  "kernelspec": {
   "display_name": "Python 2",
   "language": "python",
   "name": "python2"
  },
  "language_info": {
   "codemirror_mode": {
    "name": "ipython",
    "version": 2
   },
   "file_extension": ".py",
   "mimetype": "text/x-python",
   "name": "python",
   "nbconvert_exporter": "python",
   "pygments_lexer": "ipython2",
   "version": "2.7.11"
  }
 },
 "nbformat": 4,
 "nbformat_minor": 0
}
